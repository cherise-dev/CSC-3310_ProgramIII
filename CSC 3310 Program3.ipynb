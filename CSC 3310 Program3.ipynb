{
 "cells": [
  {
   "cell_type": "markdown",
   "metadata": {},
   "source": [
    "## CSC 3310 Program III\n",
    "### Divide and Conquer \n",
    "#### Done by Cherise  and Adrianne"
   ]
  },
  {
   "cell_type": "code",
   "execution_count": 22,
   "metadata": {},
   "outputs": [],
   "source": [
    "def choose_pivot(a, k):\n",
    "    if k <= len(a)/ 2:\n",
    "        return k-1\n",
    "    else:\n",
    "        return round(len(a)/2)"
   ]
  },
  {
   "cell_type": "code",
   "execution_count": 23,
   "metadata": {},
   "outputs": [],
   "source": [
    "def partition( a, p_idx):\n",
    "    p = a[p_idx]\n",
    "    left = []\n",
    "    right = []\n",
    "    \n",
    "    for i in range(len(a)):\n",
    "        if i != p_idx:\n",
    "            if a[i] < p:\n",
    "                left.append(a[i])\n",
    "            else:\n",
    "                right.append(a[i])\n",
    "    \n",
    "    return left, p, right"
   ]
  },
  {
   "cell_type": "code",
   "execution_count": 24,
   "metadata": {},
   "outputs": [],
   "source": [
    "def QuickSort(a, k):\n",
    "    if len(a) <= 1:\n",
    "        return a[0]\n",
    "    p_idx = choose_pivot(a, k)\n",
    "    l, p, r = partition(a, p_idx)\n",
    "    newP_idx = len(l)\n",
    "\n",
    "    if k-1 == newP_idx:\n",
    "        return p\n",
    "    elif k-1 < newP_idx:\n",
    "        return QuickSort(l, k)\n",
    "    else:\n",
    "        return QuickSort(r, k- newP_idx - 1)\n"
   ]
  },
  {
   "cell_type": "code",
   "execution_count": 25,
   "metadata": {},
   "outputs": [
    {
     "name": "stdout",
     "output_type": "stream",
     "text": [
      "4\n"
     ]
    }
   ],
   "source": [
    "test1 = [5, 1, 6, 7, 3, 4, 8]\n",
    "print(QuickSort(test1, 3))"
   ]
  }
 ],
 "metadata": {
  "kernelspec": {
   "display_name": "Python 3",
   "language": "python",
   "name": "python3"
  },
  "language_info": {
   "codemirror_mode": {
    "name": "ipython",
    "version": 3
   },
   "file_extension": ".py",
   "mimetype": "text/x-python",
   "name": "python",
   "nbconvert_exporter": "python",
   "pygments_lexer": "ipython3",
   "version": "3.10.7"
  }
 },
 "nbformat": 4,
 "nbformat_minor": 2
}
